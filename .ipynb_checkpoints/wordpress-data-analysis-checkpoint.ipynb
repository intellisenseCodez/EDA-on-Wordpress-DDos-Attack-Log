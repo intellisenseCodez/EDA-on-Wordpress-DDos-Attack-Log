{
 "cells": [
  {
   "cell_type": "markdown",
   "id": "cd5bfdad",
   "metadata": {},
   "source": [
    "# Import Library"
   ]
  },
  {
   "cell_type": "code",
   "execution_count": 2,
   "id": "0a4c38f3",
   "metadata": {},
   "outputs": [],
   "source": [
    "import numpy as np\n",
    "import pandas as pd\n",
    "import seaborn as sns\n",
    "import matplotlib.pyplot as plt\n",
    "%matplotlib inline"
   ]
  },
  {
   "cell_type": "markdown",
   "id": "170c25c5",
   "metadata": {},
   "source": [
    "# Import data"
   ]
  },
  {
   "cell_type": "code",
   "execution_count": 36,
   "id": "a4205567",
   "metadata": {},
   "outputs": [],
   "source": [
    "# read data\n",
    "df = pd.read_csv('./Wordpress DDOS attack Logs.txt',delimiter=\",\")"
   ]
  },
  {
   "cell_type": "code",
   "execution_count": 37,
   "id": "b93aec2f",
   "metadata": {},
   "outputs": [
    {
     "data": {
      "text/html": [
       "<div>\n",
       "<style scoped>\n",
       "    .dataframe tbody tr th:only-of-type {\n",
       "        vertical-align: middle;\n",
       "    }\n",
       "\n",
       "    .dataframe tbody tr th {\n",
       "        vertical-align: top;\n",
       "    }\n",
       "\n",
       "    .dataframe thead th {\n",
       "        text-align: right;\n",
       "    }\n",
       "</style>\n",
       "<table border=\"1\" class=\"dataframe\">\n",
       "  <thead>\n",
       "    <tr style=\"text-align: right;\">\n",
       "      <th></th>\n",
       "      <th>188.121.41.140 - - [23/Sep/2013:13:02:47 +0200] \"GET / HTTP/1.1\" 200 8955 \"-\" \"WordPress/3.0.2; http://www.cakefantasia.com\"</th>\n",
       "    </tr>\n",
       "  </thead>\n",
       "  <tbody>\n",
       "    <tr>\n",
       "      <th>0</th>\n",
       "      <td>81.169.144.135 - - [23/Sep/2013:13:02:47 +0200...</td>\n",
       "    </tr>\n",
       "    <tr>\n",
       "      <th>1</th>\n",
       "      <td>91.184.18.50 - - [23/Sep/2013:13:02:47 +0200] ...</td>\n",
       "    </tr>\n",
       "    <tr>\n",
       "      <th>2</th>\n",
       "      <td>184.154.224.17 - - [23/Sep/2013:13:02:47 +0200...</td>\n",
       "    </tr>\n",
       "    <tr>\n",
       "      <th>3</th>\n",
       "      <td>209.15.245.58 - - [23/Sep/2013:13:02:47 +0200]...</td>\n",
       "    </tr>\n",
       "    <tr>\n",
       "      <th>4</th>\n",
       "      <td>66.96.183.15 - - [23/Sep/2013:13:02:47 +0200] ...</td>\n",
       "    </tr>\n",
       "  </tbody>\n",
       "</table>\n",
       "</div>"
      ],
      "text/plain": [
       "  188.121.41.140 - - [23/Sep/2013:13:02:47 +0200] \"GET / HTTP/1.1\" 200 8955 \"-\" \"WordPress/3.0.2; http://www.cakefantasia.com\"\n",
       "0  81.169.144.135 - - [23/Sep/2013:13:02:47 +0200...                                                                          \n",
       "1  91.184.18.50 - - [23/Sep/2013:13:02:47 +0200] ...                                                                          \n",
       "2  184.154.224.17 - - [23/Sep/2013:13:02:47 +0200...                                                                          \n",
       "3  209.15.245.58 - - [23/Sep/2013:13:02:47 +0200]...                                                                          \n",
       "4  66.96.183.15 - - [23/Sep/2013:13:02:47 +0200] ...                                                                          "
      ]
     },
     "execution_count": 37,
     "metadata": {},
     "output_type": "execute_result"
    }
   ],
   "source": [
    "df.head()"
   ]
  },
  {
   "cell_type": "code",
   "execution_count": 38,
   "id": "0447e07c",
   "metadata": {},
   "outputs": [
    {
     "name": "stdout",
     "output_type": "stream",
     "text": [
      "<class 'pandas.core.frame.DataFrame'>\n",
      "RangeIndex: 568 entries, 0 to 567\n",
      "Data columns (total 1 columns):\n",
      " #   Column                                                                                                                        Non-Null Count  Dtype \n",
      "---  ------                                                                                                                        --------------  ----- \n",
      " 0   188.121.41.140 - - [23/Sep/2013:13:02:47 +0200] \"GET / HTTP/1.1\" 200 8955 \"-\" \"WordPress/3.0.2; http://www.cakefantasia.com\"  568 non-null    object\n",
      "dtypes: object(1)\n",
      "memory usage: 4.6+ KB\n"
     ]
    }
   ],
   "source": [
    "df.info()"
   ]
  },
  {
   "cell_type": "markdown",
   "id": "2f7a5c46",
   "metadata": {},
   "source": [
    "# Data Cleaning"
   ]
  },
  {
   "cell_type": "markdown",
   "id": "4fcae4a3",
   "metadata": {},
   "source": [
    "* so first i will remove the unneccessary values and turn the log data into a dataframe\n",
    "* i will also turn it into a csv file for other uses"
   ]
  },
  {
   "cell_type": "code",
   "execution_count": 39,
   "id": "29a10132",
   "metadata": {},
   "outputs": [],
   "source": [
    "#open the file \n",
    "f = open('./Wordpress DDOS attack Logs.txt', \"r\") \n",
    "\n",
    "#initialize an empty list\n",
    "mylist = [] \n",
    "\n",
    "#iterate through each line in the file\n",
    "for line in f: \n",
    "  \n",
    "    #strip the newline character \n",
    "    line = line.strip() \n",
    "  \n",
    "    #append the line to the list \n",
    "    mylist.append(line) \n",
    "  \n",
    "#close the file\n",
    "f.close()"
   ]
  },
  {
   "cell_type": "code",
   "execution_count": 40,
   "id": "049d543c",
   "metadata": {},
   "outputs": [],
   "source": [
    "import re\n",
    "list1 = []\n",
    "list2 = []\n",
    "list3 = []\n",
    "list4 = []\n",
    "list5 = []\n",
    "for line in mylist:\n",
    "    word = str(line)\n",
    "    parts = re.split(r'[\\s\\[\\]\\\"]+', word)\n",
    "    list1.append(parts[0])\n",
    "    list2.append(parts[3])\n",
    "    list3.append(parts[8:10])\n",
    "    list4.append(parts[11])\n",
    "    list5.append(parts[12])"
   ]
  },
  {
   "cell_type": "code",
   "execution_count": 41,
   "id": "d05ec2d5",
   "metadata": {},
   "outputs": [
    {
     "data": {
      "text/html": [
       "<div>\n",
       "<style scoped>\n",
       "    .dataframe tbody tr th:only-of-type {\n",
       "        vertical-align: middle;\n",
       "    }\n",
       "\n",
       "    .dataframe tbody tr th {\n",
       "        vertical-align: top;\n",
       "    }\n",
       "\n",
       "    .dataframe thead th {\n",
       "        text-align: right;\n",
       "    }\n",
       "</style>\n",
       "<table border=\"1\" class=\"dataframe\">\n",
       "  <thead>\n",
       "    <tr style=\"text-align: right;\">\n",
       "      <th></th>\n",
       "      <th>IP adress</th>\n",
       "      <th>DateAndTime</th>\n",
       "      <th>Port</th>\n",
       "      <th>Wordpress Version</th>\n",
       "      <th>Website</th>\n",
       "    </tr>\n",
       "  </thead>\n",
       "  <tbody>\n",
       "    <tr>\n",
       "      <th>0</th>\n",
       "      <td>188.121.41.140</td>\n",
       "      <td>23/Sep/2013:13:02:47</td>\n",
       "      <td>[200, 8955]</td>\n",
       "      <td>WordPress/3.0.2;</td>\n",
       "      <td>http://www.cakefantasia.com</td>\n",
       "    </tr>\n",
       "    <tr>\n",
       "      <th>1</th>\n",
       "      <td>81.169.144.135</td>\n",
       "      <td>23/Sep/2013:13:02:47</td>\n",
       "      <td>[200, 8955]</td>\n",
       "      <td>WordPress/3.6.1;</td>\n",
       "      <td>http://aifs2.pvdveen.net</td>\n",
       "    </tr>\n",
       "    <tr>\n",
       "      <th>2</th>\n",
       "      <td>91.184.18.50</td>\n",
       "      <td>23/Sep/2013:13:02:47</td>\n",
       "      <td>[200, 8955]</td>\n",
       "      <td>WordPress/3.5.1;</td>\n",
       "      <td>http://sociedia.com</td>\n",
       "    </tr>\n",
       "    <tr>\n",
       "      <th>3</th>\n",
       "      <td>184.154.224.17</td>\n",
       "      <td>23/Sep/2013:13:02:47</td>\n",
       "      <td>[200, 8955]</td>\n",
       "      <td>WordPress/3.6;</td>\n",
       "      <td>http://photekusa.com</td>\n",
       "    </tr>\n",
       "    <tr>\n",
       "      <th>4</th>\n",
       "      <td>209.15.245.58</td>\n",
       "      <td>23/Sep/2013:13:02:47</td>\n",
       "      <td>[200, 8955]</td>\n",
       "      <td>WordPress/3.5.2;</td>\n",
       "      <td>http://enabledkids.ca</td>\n",
       "    </tr>\n",
       "  </tbody>\n",
       "</table>\n",
       "</div>"
      ],
      "text/plain": [
       "        IP adress           DateAndTime         Port Wordpress Version  \\\n",
       "0  188.121.41.140  23/Sep/2013:13:02:47  [200, 8955]  WordPress/3.0.2;   \n",
       "1  81.169.144.135  23/Sep/2013:13:02:47  [200, 8955]  WordPress/3.6.1;   \n",
       "2    91.184.18.50  23/Sep/2013:13:02:47  [200, 8955]  WordPress/3.5.1;   \n",
       "3  184.154.224.17  23/Sep/2013:13:02:47  [200, 8955]    WordPress/3.6;   \n",
       "4   209.15.245.58  23/Sep/2013:13:02:47  [200, 8955]  WordPress/3.5.2;   \n",
       "\n",
       "                       Website  \n",
       "0  http://www.cakefantasia.com  \n",
       "1     http://aifs2.pvdveen.net  \n",
       "2          http://sociedia.com  \n",
       "3         http://photekusa.com  \n",
       "4        http://enabledkids.ca  "
      ]
     },
     "metadata": {},
     "output_type": "display_data"
    }
   ],
   "source": [
    "dict = {'IP adress':list1,\n",
    "        'DateAndTime':list2,\n",
    "        'Port':list3,\n",
    "        'Wordpress Version':list4,\n",
    "        'Website': list5}\n",
    "df = pd.DataFrame(dict)\n",
    "display(df.head())"
   ]
  },
  {
   "cell_type": "code",
   "execution_count": 42,
   "id": "feabf2b6",
   "metadata": {},
   "outputs": [
    {
     "data": {
      "text/html": [
       "<div>\n",
       "<style scoped>\n",
       "    .dataframe tbody tr th:only-of-type {\n",
       "        vertical-align: middle;\n",
       "    }\n",
       "\n",
       "    .dataframe tbody tr th {\n",
       "        vertical-align: top;\n",
       "    }\n",
       "\n",
       "    .dataframe thead th {\n",
       "        text-align: right;\n",
       "    }\n",
       "</style>\n",
       "<table border=\"1\" class=\"dataframe\">\n",
       "  <thead>\n",
       "    <tr style=\"text-align: right;\">\n",
       "      <th></th>\n",
       "      <th>0</th>\n",
       "      <th>1</th>\n",
       "    </tr>\n",
       "  </thead>\n",
       "  <tbody>\n",
       "    <tr>\n",
       "      <th>0</th>\n",
       "      <td>23/Sep/2013</td>\n",
       "      <td>13:02:47</td>\n",
       "    </tr>\n",
       "    <tr>\n",
       "      <th>1</th>\n",
       "      <td>23/Sep/2013</td>\n",
       "      <td>13:02:47</td>\n",
       "    </tr>\n",
       "    <tr>\n",
       "      <th>2</th>\n",
       "      <td>23/Sep/2013</td>\n",
       "      <td>13:02:47</td>\n",
       "    </tr>\n",
       "    <tr>\n",
       "      <th>3</th>\n",
       "      <td>23/Sep/2013</td>\n",
       "      <td>13:02:47</td>\n",
       "    </tr>\n",
       "    <tr>\n",
       "      <th>4</th>\n",
       "      <td>23/Sep/2013</td>\n",
       "      <td>13:02:47</td>\n",
       "    </tr>\n",
       "    <tr>\n",
       "      <th>...</th>\n",
       "      <td>...</td>\n",
       "      <td>...</td>\n",
       "    </tr>\n",
       "    <tr>\n",
       "      <th>564</th>\n",
       "      <td>23/Sep/2013</td>\n",
       "      <td>13:03:13</td>\n",
       "    </tr>\n",
       "    <tr>\n",
       "      <th>565</th>\n",
       "      <td>23/Sep/2013</td>\n",
       "      <td>13:03:13</td>\n",
       "    </tr>\n",
       "    <tr>\n",
       "      <th>566</th>\n",
       "      <td>23/Sep/2013</td>\n",
       "      <td>13:03:13</td>\n",
       "    </tr>\n",
       "    <tr>\n",
       "      <th>567</th>\n",
       "      <td>23/Sep/2013</td>\n",
       "      <td>13:03:13</td>\n",
       "    </tr>\n",
       "    <tr>\n",
       "      <th>568</th>\n",
       "      <td>23/Sep/2013</td>\n",
       "      <td>13:03:13</td>\n",
       "    </tr>\n",
       "  </tbody>\n",
       "</table>\n",
       "<p>569 rows × 2 columns</p>\n",
       "</div>"
      ],
      "text/plain": [
       "               0         1\n",
       "0    23/Sep/2013  13:02:47\n",
       "1    23/Sep/2013  13:02:47\n",
       "2    23/Sep/2013  13:02:47\n",
       "3    23/Sep/2013  13:02:47\n",
       "4    23/Sep/2013  13:02:47\n",
       "..           ...       ...\n",
       "564  23/Sep/2013  13:03:13\n",
       "565  23/Sep/2013  13:03:13\n",
       "566  23/Sep/2013  13:03:13\n",
       "567  23/Sep/2013  13:03:13\n",
       "568  23/Sep/2013  13:03:13\n",
       "\n",
       "[569 rows x 2 columns]"
      ]
     },
     "execution_count": 42,
     "metadata": {},
     "output_type": "execute_result"
    }
   ],
   "source": [
    "# split the DateandTime Column\n",
    "DateTimeSplit = df[\"DateAndTime\"].str.split(\":\", n = 1, expand = True)\n",
    "DateTimeSplit"
   ]
  },
  {
   "cell_type": "markdown",
   "id": "9cb1cce1",
   "metadata": {},
   "source": [
    "* split the date and time column into date column and time column"
   ]
  },
  {
   "cell_type": "code",
   "execution_count": 43,
   "id": "7bc311ea",
   "metadata": {},
   "outputs": [
    {
     "data": {
      "text/html": [
       "<div>\n",
       "<style scoped>\n",
       "    .dataframe tbody tr th:only-of-type {\n",
       "        vertical-align: middle;\n",
       "    }\n",
       "\n",
       "    .dataframe tbody tr th {\n",
       "        vertical-align: top;\n",
       "    }\n",
       "\n",
       "    .dataframe thead th {\n",
       "        text-align: right;\n",
       "    }\n",
       "</style>\n",
       "<table border=\"1\" class=\"dataframe\">\n",
       "  <thead>\n",
       "    <tr style=\"text-align: right;\">\n",
       "      <th></th>\n",
       "      <th>IP adress</th>\n",
       "      <th>DateAndTime</th>\n",
       "      <th>Port</th>\n",
       "      <th>Wordpress Version</th>\n",
       "      <th>Website</th>\n",
       "      <th>Date</th>\n",
       "      <th>Time</th>\n",
       "    </tr>\n",
       "  </thead>\n",
       "  <tbody>\n",
       "    <tr>\n",
       "      <th>0</th>\n",
       "      <td>188.121.41.140</td>\n",
       "      <td>23/Sep/2013:13:02:47</td>\n",
       "      <td>[200, 8955]</td>\n",
       "      <td>WordPress/3.0.2;</td>\n",
       "      <td>http://www.cakefantasia.com</td>\n",
       "      <td>23/Sep/2013</td>\n",
       "      <td>13:02:47</td>\n",
       "    </tr>\n",
       "    <tr>\n",
       "      <th>1</th>\n",
       "      <td>81.169.144.135</td>\n",
       "      <td>23/Sep/2013:13:02:47</td>\n",
       "      <td>[200, 8955]</td>\n",
       "      <td>WordPress/3.6.1;</td>\n",
       "      <td>http://aifs2.pvdveen.net</td>\n",
       "      <td>23/Sep/2013</td>\n",
       "      <td>13:02:47</td>\n",
       "    </tr>\n",
       "    <tr>\n",
       "      <th>2</th>\n",
       "      <td>91.184.18.50</td>\n",
       "      <td>23/Sep/2013:13:02:47</td>\n",
       "      <td>[200, 8955]</td>\n",
       "      <td>WordPress/3.5.1;</td>\n",
       "      <td>http://sociedia.com</td>\n",
       "      <td>23/Sep/2013</td>\n",
       "      <td>13:02:47</td>\n",
       "    </tr>\n",
       "    <tr>\n",
       "      <th>3</th>\n",
       "      <td>184.154.224.17</td>\n",
       "      <td>23/Sep/2013:13:02:47</td>\n",
       "      <td>[200, 8955]</td>\n",
       "      <td>WordPress/3.6;</td>\n",
       "      <td>http://photekusa.com</td>\n",
       "      <td>23/Sep/2013</td>\n",
       "      <td>13:02:47</td>\n",
       "    </tr>\n",
       "    <tr>\n",
       "      <th>4</th>\n",
       "      <td>209.15.245.58</td>\n",
       "      <td>23/Sep/2013:13:02:47</td>\n",
       "      <td>[200, 8955]</td>\n",
       "      <td>WordPress/3.5.2;</td>\n",
       "      <td>http://enabledkids.ca</td>\n",
       "      <td>23/Sep/2013</td>\n",
       "      <td>13:02:47</td>\n",
       "    </tr>\n",
       "    <tr>\n",
       "      <th>...</th>\n",
       "      <td>...</td>\n",
       "      <td>...</td>\n",
       "      <td>...</td>\n",
       "      <td>...</td>\n",
       "      <td>...</td>\n",
       "      <td>...</td>\n",
       "      <td>...</td>\n",
       "    </tr>\n",
       "    <tr>\n",
       "      <th>564</th>\n",
       "      <td>216.201.128.7</td>\n",
       "      <td>23/Sep/2013:13:03:13</td>\n",
       "      <td>[503, 913]</td>\n",
       "      <td>WordPress/3.5;</td>\n",
       "      <td>http://www.theleadernews.com</td>\n",
       "      <td>23/Sep/2013</td>\n",
       "      <td>13:03:13</td>\n",
       "    </tr>\n",
       "    <tr>\n",
       "      <th>565</th>\n",
       "      <td>130.185.84.2</td>\n",
       "      <td>23/Sep/2013:13:03:13</td>\n",
       "      <td>[503, 913]</td>\n",
       "      <td>WordPress/3.2.1;</td>\n",
       "      <td>http://www.gerirepoupar.com/jovens</td>\n",
       "      <td>23/Sep/2013</td>\n",
       "      <td>13:03:13</td>\n",
       "    </tr>\n",
       "    <tr>\n",
       "      <th>566</th>\n",
       "      <td>142.4.38.98</td>\n",
       "      <td>23/Sep/2013:13:03:13</td>\n",
       "      <td>[503, 913]</td>\n",
       "      <td>WordPress/3.6;</td>\n",
       "      <td>http://caithatescake.com</td>\n",
       "      <td>23/Sep/2013</td>\n",
       "      <td>13:03:13</td>\n",
       "    </tr>\n",
       "    <tr>\n",
       "      <th>567</th>\n",
       "      <td>184.154.225.8</td>\n",
       "      <td>23/Sep/2013:13:03:13</td>\n",
       "      <td>[503, 913]</td>\n",
       "      <td>WordPress/3.3.2;</td>\n",
       "      <td>http://diglitny.org/blog</td>\n",
       "      <td>23/Sep/2013</td>\n",
       "      <td>13:03:13</td>\n",
       "    </tr>\n",
       "    <tr>\n",
       "      <th>568</th>\n",
       "      <td>69.163.225.185</td>\n",
       "      <td>23/Sep/2013:13:03:13</td>\n",
       "      <td>[503, 913]</td>\n",
       "      <td>WordPress/3.6.1;</td>\n",
       "      <td>http://www.thehtc.ca</td>\n",
       "      <td>23/Sep/2013</td>\n",
       "      <td>13:03:13</td>\n",
       "    </tr>\n",
       "  </tbody>\n",
       "</table>\n",
       "<p>569 rows × 7 columns</p>\n",
       "</div>"
      ],
      "text/plain": [
       "          IP adress           DateAndTime         Port Wordpress Version  \\\n",
       "0    188.121.41.140  23/Sep/2013:13:02:47  [200, 8955]  WordPress/3.0.2;   \n",
       "1    81.169.144.135  23/Sep/2013:13:02:47  [200, 8955]  WordPress/3.6.1;   \n",
       "2      91.184.18.50  23/Sep/2013:13:02:47  [200, 8955]  WordPress/3.5.1;   \n",
       "3    184.154.224.17  23/Sep/2013:13:02:47  [200, 8955]    WordPress/3.6;   \n",
       "4     209.15.245.58  23/Sep/2013:13:02:47  [200, 8955]  WordPress/3.5.2;   \n",
       "..              ...                   ...          ...               ...   \n",
       "564   216.201.128.7  23/Sep/2013:13:03:13   [503, 913]    WordPress/3.5;   \n",
       "565    130.185.84.2  23/Sep/2013:13:03:13   [503, 913]  WordPress/3.2.1;   \n",
       "566     142.4.38.98  23/Sep/2013:13:03:13   [503, 913]    WordPress/3.6;   \n",
       "567   184.154.225.8  23/Sep/2013:13:03:13   [503, 913]  WordPress/3.3.2;   \n",
       "568  69.163.225.185  23/Sep/2013:13:03:13   [503, 913]  WordPress/3.6.1;   \n",
       "\n",
       "                                Website         Date      Time  \n",
       "0           http://www.cakefantasia.com  23/Sep/2013  13:02:47  \n",
       "1              http://aifs2.pvdveen.net  23/Sep/2013  13:02:47  \n",
       "2                   http://sociedia.com  23/Sep/2013  13:02:47  \n",
       "3                  http://photekusa.com  23/Sep/2013  13:02:47  \n",
       "4                 http://enabledkids.ca  23/Sep/2013  13:02:47  \n",
       "..                                  ...          ...       ...  \n",
       "564        http://www.theleadernews.com  23/Sep/2013  13:03:13  \n",
       "565  http://www.gerirepoupar.com/jovens  23/Sep/2013  13:03:13  \n",
       "566            http://caithatescake.com  23/Sep/2013  13:03:13  \n",
       "567            http://diglitny.org/blog  23/Sep/2013  13:03:13  \n",
       "568                http://www.thehtc.ca  23/Sep/2013  13:03:13  \n",
       "\n",
       "[569 rows x 7 columns]"
      ]
     },
     "metadata": {},
     "output_type": "display_data"
    }
   ],
   "source": [
    "df[\"Date\"]= DateTimeSplit[0]\n",
    "df[\"Time\"]= DateTimeSplit[1]\n",
    "display(df)"
   ]
  },
  {
   "cell_type": "code",
   "execution_count": 35,
   "id": "72de6306",
   "metadata": {},
   "outputs": [
    {
     "data": {
      "text/html": [
       "<div>\n",
       "<style scoped>\n",
       "    .dataframe tbody tr th:only-of-type {\n",
       "        vertical-align: middle;\n",
       "    }\n",
       "\n",
       "    .dataframe tbody tr th {\n",
       "        vertical-align: top;\n",
       "    }\n",
       "\n",
       "    .dataframe thead th {\n",
       "        text-align: right;\n",
       "    }\n",
       "</style>\n",
       "<table border=\"1\" class=\"dataframe\">\n",
       "  <thead>\n",
       "    <tr style=\"text-align: right;\">\n",
       "      <th></th>\n",
       "      <th>IP adress</th>\n",
       "      <th>Port</th>\n",
       "      <th>Wordpress Version</th>\n",
       "      <th>Website</th>\n",
       "      <th>Date</th>\n",
       "      <th>Time</th>\n",
       "    </tr>\n",
       "  </thead>\n",
       "  <tbody>\n",
       "    <tr>\n",
       "      <th>0</th>\n",
       "      <td>188.121.41.140</td>\n",
       "      <td>[200, 8955]</td>\n",
       "      <td>WordPress/3.0.2;</td>\n",
       "      <td>http://www.cakefantasia.com</td>\n",
       "      <td>23/Sep/2013</td>\n",
       "      <td>13:02:47</td>\n",
       "    </tr>\n",
       "    <tr>\n",
       "      <th>1</th>\n",
       "      <td>81.169.144.135</td>\n",
       "      <td>[200, 8955]</td>\n",
       "      <td>WordPress/3.6.1;</td>\n",
       "      <td>http://aifs2.pvdveen.net</td>\n",
       "      <td>23/Sep/2013</td>\n",
       "      <td>13:02:47</td>\n",
       "    </tr>\n",
       "    <tr>\n",
       "      <th>2</th>\n",
       "      <td>91.184.18.50</td>\n",
       "      <td>[200, 8955]</td>\n",
       "      <td>WordPress/3.5.1;</td>\n",
       "      <td>http://sociedia.com</td>\n",
       "      <td>23/Sep/2013</td>\n",
       "      <td>13:02:47</td>\n",
       "    </tr>\n",
       "    <tr>\n",
       "      <th>3</th>\n",
       "      <td>184.154.224.17</td>\n",
       "      <td>[200, 8955]</td>\n",
       "      <td>WordPress/3.6;</td>\n",
       "      <td>http://photekusa.com</td>\n",
       "      <td>23/Sep/2013</td>\n",
       "      <td>13:02:47</td>\n",
       "    </tr>\n",
       "    <tr>\n",
       "      <th>4</th>\n",
       "      <td>209.15.245.58</td>\n",
       "      <td>[200, 8955]</td>\n",
       "      <td>WordPress/3.5.2;</td>\n",
       "      <td>http://enabledkids.ca</td>\n",
       "      <td>23/Sep/2013</td>\n",
       "      <td>13:02:47</td>\n",
       "    </tr>\n",
       "    <tr>\n",
       "      <th>...</th>\n",
       "      <td>...</td>\n",
       "      <td>...</td>\n",
       "      <td>...</td>\n",
       "      <td>...</td>\n",
       "      <td>...</td>\n",
       "      <td>...</td>\n",
       "    </tr>\n",
       "    <tr>\n",
       "      <th>564</th>\n",
       "      <td>216.201.128.7</td>\n",
       "      <td>[503, 913]</td>\n",
       "      <td>WordPress/3.5;</td>\n",
       "      <td>http://www.theleadernews.com</td>\n",
       "      <td>23/Sep/2013</td>\n",
       "      <td>13:03:13</td>\n",
       "    </tr>\n",
       "    <tr>\n",
       "      <th>565</th>\n",
       "      <td>130.185.84.2</td>\n",
       "      <td>[503, 913]</td>\n",
       "      <td>WordPress/3.2.1;</td>\n",
       "      <td>http://www.gerirepoupar.com/jovens</td>\n",
       "      <td>23/Sep/2013</td>\n",
       "      <td>13:03:13</td>\n",
       "    </tr>\n",
       "    <tr>\n",
       "      <th>566</th>\n",
       "      <td>142.4.38.98</td>\n",
       "      <td>[503, 913]</td>\n",
       "      <td>WordPress/3.6;</td>\n",
       "      <td>http://caithatescake.com</td>\n",
       "      <td>23/Sep/2013</td>\n",
       "      <td>13:03:13</td>\n",
       "    </tr>\n",
       "    <tr>\n",
       "      <th>567</th>\n",
       "      <td>184.154.225.8</td>\n",
       "      <td>[503, 913]</td>\n",
       "      <td>WordPress/3.3.2;</td>\n",
       "      <td>http://diglitny.org/blog</td>\n",
       "      <td>23/Sep/2013</td>\n",
       "      <td>13:03:13</td>\n",
       "    </tr>\n",
       "    <tr>\n",
       "      <th>568</th>\n",
       "      <td>69.163.225.185</td>\n",
       "      <td>[503, 913]</td>\n",
       "      <td>WordPress/3.6.1;</td>\n",
       "      <td>http://www.thehtc.ca</td>\n",
       "      <td>23/Sep/2013</td>\n",
       "      <td>13:03:13</td>\n",
       "    </tr>\n",
       "  </tbody>\n",
       "</table>\n",
       "<p>569 rows × 6 columns</p>\n",
       "</div>"
      ],
      "text/plain": [
       "          IP adress         Port Wordpress Version  \\\n",
       "0    188.121.41.140  [200, 8955]  WordPress/3.0.2;   \n",
       "1    81.169.144.135  [200, 8955]  WordPress/3.6.1;   \n",
       "2      91.184.18.50  [200, 8955]  WordPress/3.5.1;   \n",
       "3    184.154.224.17  [200, 8955]    WordPress/3.6;   \n",
       "4     209.15.245.58  [200, 8955]  WordPress/3.5.2;   \n",
       "..              ...          ...               ...   \n",
       "564   216.201.128.7   [503, 913]    WordPress/3.5;   \n",
       "565    130.185.84.2   [503, 913]  WordPress/3.2.1;   \n",
       "566     142.4.38.98   [503, 913]    WordPress/3.6;   \n",
       "567   184.154.225.8   [503, 913]  WordPress/3.3.2;   \n",
       "568  69.163.225.185   [503, 913]  WordPress/3.6.1;   \n",
       "\n",
       "                                Website         Date      Time  \n",
       "0           http://www.cakefantasia.com  23/Sep/2013  13:02:47  \n",
       "1              http://aifs2.pvdveen.net  23/Sep/2013  13:02:47  \n",
       "2                   http://sociedia.com  23/Sep/2013  13:02:47  \n",
       "3                  http://photekusa.com  23/Sep/2013  13:02:47  \n",
       "4                 http://enabledkids.ca  23/Sep/2013  13:02:47  \n",
       "..                                  ...          ...       ...  \n",
       "564        http://www.theleadernews.com  23/Sep/2013  13:03:13  \n",
       "565  http://www.gerirepoupar.com/jovens  23/Sep/2013  13:03:13  \n",
       "566            http://caithatescake.com  23/Sep/2013  13:03:13  \n",
       "567            http://diglitny.org/blog  23/Sep/2013  13:03:13  \n",
       "568                http://www.thehtc.ca  23/Sep/2013  13:03:13  \n",
       "\n",
       "[569 rows x 6 columns]"
      ]
     },
     "execution_count": 35,
     "metadata": {},
     "output_type": "execute_result"
    }
   ],
   "source": [
    "df"
   ]
  },
  {
   "cell_type": "code",
   "execution_count": 44,
   "id": "68a669b5",
   "metadata": {},
   "outputs": [
    {
     "data": {
      "text/html": [
       "<div>\n",
       "<style scoped>\n",
       "    .dataframe tbody tr th:only-of-type {\n",
       "        vertical-align: middle;\n",
       "    }\n",
       "\n",
       "    .dataframe tbody tr th {\n",
       "        vertical-align: top;\n",
       "    }\n",
       "\n",
       "    .dataframe thead th {\n",
       "        text-align: right;\n",
       "    }\n",
       "</style>\n",
       "<table border=\"1\" class=\"dataframe\">\n",
       "  <thead>\n",
       "    <tr style=\"text-align: right;\">\n",
       "      <th></th>\n",
       "      <th>IP adress</th>\n",
       "      <th>Port</th>\n",
       "      <th>Wordpress Version</th>\n",
       "      <th>Website</th>\n",
       "      <th>Date</th>\n",
       "      <th>Time</th>\n",
       "    </tr>\n",
       "  </thead>\n",
       "  <tbody>\n",
       "    <tr>\n",
       "      <th>0</th>\n",
       "      <td>188.121.41.140</td>\n",
       "      <td>[200, 8955]</td>\n",
       "      <td>WordPress/3.0.2;</td>\n",
       "      <td>http://www.cakefantasia.com</td>\n",
       "      <td>23/Sep/2013</td>\n",
       "      <td>13:02:47</td>\n",
       "    </tr>\n",
       "    <tr>\n",
       "      <th>1</th>\n",
       "      <td>81.169.144.135</td>\n",
       "      <td>[200, 8955]</td>\n",
       "      <td>WordPress/3.6.1;</td>\n",
       "      <td>http://aifs2.pvdveen.net</td>\n",
       "      <td>23/Sep/2013</td>\n",
       "      <td>13:02:47</td>\n",
       "    </tr>\n",
       "    <tr>\n",
       "      <th>2</th>\n",
       "      <td>91.184.18.50</td>\n",
       "      <td>[200, 8955]</td>\n",
       "      <td>WordPress/3.5.1;</td>\n",
       "      <td>http://sociedia.com</td>\n",
       "      <td>23/Sep/2013</td>\n",
       "      <td>13:02:47</td>\n",
       "    </tr>\n",
       "    <tr>\n",
       "      <th>3</th>\n",
       "      <td>184.154.224.17</td>\n",
       "      <td>[200, 8955]</td>\n",
       "      <td>WordPress/3.6;</td>\n",
       "      <td>http://photekusa.com</td>\n",
       "      <td>23/Sep/2013</td>\n",
       "      <td>13:02:47</td>\n",
       "    </tr>\n",
       "    <tr>\n",
       "      <th>4</th>\n",
       "      <td>209.15.245.58</td>\n",
       "      <td>[200, 8955]</td>\n",
       "      <td>WordPress/3.5.2;</td>\n",
       "      <td>http://enabledkids.ca</td>\n",
       "      <td>23/Sep/2013</td>\n",
       "      <td>13:02:47</td>\n",
       "    </tr>\n",
       "  </tbody>\n",
       "</table>\n",
       "</div>"
      ],
      "text/plain": [
       "        IP adress         Port Wordpress Version                      Website  \\\n",
       "0  188.121.41.140  [200, 8955]  WordPress/3.0.2;  http://www.cakefantasia.com   \n",
       "1  81.169.144.135  [200, 8955]  WordPress/3.6.1;     http://aifs2.pvdveen.net   \n",
       "2    91.184.18.50  [200, 8955]  WordPress/3.5.1;          http://sociedia.com   \n",
       "3  184.154.224.17  [200, 8955]    WordPress/3.6;         http://photekusa.com   \n",
       "4   209.15.245.58  [200, 8955]  WordPress/3.5.2;        http://enabledkids.ca   \n",
       "\n",
       "          Date      Time  \n",
       "0  23/Sep/2013  13:02:47  \n",
       "1  23/Sep/2013  13:02:47  \n",
       "2  23/Sep/2013  13:02:47  \n",
       "3  23/Sep/2013  13:02:47  \n",
       "4  23/Sep/2013  13:02:47  "
      ]
     },
     "execution_count": 44,
     "metadata": {},
     "output_type": "execute_result"
    }
   ],
   "source": [
    "df = df.drop('DateAndTime',axis =1)\n",
    "#df['Time'] = df['Time'].dt.strftime('%H:%M:%S')\n",
    "df['Time'] = pd.to_datetime(df['Time']).dt.time\n",
    "df.head()"
   ]
  },
  {
   "cell_type": "markdown",
   "id": "7cbc047a",
   "metadata": {},
   "source": [
    "* The above code completes cleaning the data\n",
    "* it makes date and time different columns and deletes the original DateandTime column\n",
    "* Now the code as been fully converted to a usable dataframe #### Note (help needed)\n",
    "* am having troble turning it into a datetime dtype becuz it also records the date at the time of running into the dataset (to see run the comment and comment out the rest )"
   ]
  },
  {
   "cell_type": "code",
   "execution_count": 45,
   "id": "9c69efef",
   "metadata": {},
   "outputs": [
    {
     "name": "stdout",
     "output_type": "stream",
     "text": [
      "<class 'pandas.core.frame.DataFrame'>\n",
      "RangeIndex: 569 entries, 0 to 568\n",
      "Data columns (total 6 columns):\n",
      " #   Column             Non-Null Count  Dtype \n",
      "---  ------             --------------  ----- \n",
      " 0   IP adress          569 non-null    object\n",
      " 1   Port               569 non-null    object\n",
      " 2   Wordpress Version  569 non-null    object\n",
      " 3   Website            569 non-null    object\n",
      " 4   Date               569 non-null    object\n",
      " 5   Time               569 non-null    object\n",
      "dtypes: object(6)\n",
      "memory usage: 26.8+ KB\n"
     ]
    }
   ],
   "source": [
    "df.info()"
   ]
  },
  {
   "cell_type": "code",
   "execution_count": 46,
   "id": "5167a392",
   "metadata": {},
   "outputs": [],
   "source": [
    "df.to_csv('wordpress_ddos_log_transform.csv')"
   ]
  },
  {
   "cell_type": "markdown",
   "id": "8441197d",
   "metadata": {},
   "source": [
    "* The Above code turns the dataframe into a csv file\n",
    "* This was How i changed the log txt to log csv"
   ]
  },
  {
   "cell_type": "markdown",
   "id": "057c94e0",
   "metadata": {},
   "source": [
    "# EDA Analysis"
   ]
  },
  {
   "cell_type": "markdown",
   "id": "21d2c83c",
   "metadata": {},
   "source": [
    "### Import CSV data"
   ]
  },
  {
   "cell_type": "code",
   "execution_count": 48,
   "id": "3e5756f7",
   "metadata": {},
   "outputs": [
    {
     "name": "stdout",
     "output_type": "stream",
     "text": [
      "<class 'pandas.core.frame.DataFrame'>\n",
      "RangeIndex: 569 entries, 0 to 568\n",
      "Data columns (total 7 columns):\n",
      " #   Column             Non-Null Count  Dtype \n",
      "---  ------             --------------  ----- \n",
      " 0   Unnamed: 0         569 non-null    int64 \n",
      " 1   IP adress          569 non-null    object\n",
      " 2   Port               569 non-null    object\n",
      " 3   Wordpress Version  569 non-null    object\n",
      " 4   Website            563 non-null    object\n",
      " 5   Date               569 non-null    object\n",
      " 6   Time               569 non-null    object\n",
      "dtypes: int64(1), object(6)\n",
      "memory usage: 31.2+ KB\n"
     ]
    }
   ],
   "source": [
    "df = pd.read_csv(\"wordpress_ddos_log_transform.csv\")\n",
    "df.info()"
   ]
  },
  {
   "cell_type": "markdown",
   "id": "b1a86fbe",
   "metadata": {},
   "source": [
    "### Top IP Address"
   ]
  },
  {
   "cell_type": "code",
   "execution_count": 49,
   "id": "a7831d86",
   "metadata": {},
   "outputs": [
    {
     "name": "stdout",
     "output_type": "stream",
     "text": [
      "7\n",
      "94.136.40.100      True\n",
      "82.165.139.53      True\n",
      "193.202.110.182    True\n",
      "66.96.183.2        True\n",
      "81.19.187.39       True\n",
      "66.96.183.86       True\n",
      "184.168.152.79     True\n",
      "Name: IP Address, dtype: bool\n"
     ]
    }
   ],
   "source": [
    "top_ips = df['IP Address'].value_counts() >= 5\n",
    "print(top_ips.sum())\n",
    "print(top_ips[:7])"
   ]
  },
  {
   "cell_type": "markdown",
   "id": "8b7de358",
   "metadata": {},
   "source": [
    "* This are the IP addresses that contacted the server five times or more than five times\n",
    "* They are about 7 in total and listed above"
   ]
  },
  {
   "cell_type": "code",
   "execution_count": 81,
   "id": "c3b69d32",
   "metadata": {},
   "outputs": [
    {
     "name": "stdout",
     "output_type": "stream",
     "text": [
      "7\n",
      "\"-\"                                        True\n",
      "http://chakra-project.es\"                  True\n",
      "http://www.isledejeancharles.com/news\"     True\n",
      "http://danhamilton.co.uk/blog\"             True\n",
      "http://salaanmedia.com\"                    True\n",
      "http://www.foamcasualty.com\"               True\n",
      "http://27blueballoons.com\"                 True\n",
      "http://sociedia.com\"                      False\n",
      "http://rotoprofessor.com/football\"        False\n",
      "http://50.56.33.56/blog\"                  False\n",
      "http://www.davidcoxon.com/run\"            False\n",
      "Name: Website, dtype: bool\n"
     ]
    }
   ],
   "source": [
    "web = df['Website'].value_counts()>=5\n",
    "print(web.sum())\n",
    "print(web[:11])\n"
   ]
  },
  {
   "cell_type": "markdown",
   "id": "bae9f543",
   "metadata": {},
   "source": [
    "* This are the Websites that contacted the server five times or more than five times\n",
    "* They are about 335 in total but 11 are listed above"
   ]
  },
  {
   "cell_type": "markdown",
   "id": "e3cd73df",
   "metadata": {},
   "source": [
    "## Port Attack"
   ]
  },
  {
   "cell_type": "code",
   "execution_count": 88,
   "id": "83438b0a",
   "metadata": {},
   "outputs": [
    {
     "data": {
      "image/png": "[encoded data removed]",
      "text/plain": [
       "<Figure size 640x480 with 1 Axes>"
      ]
     },
     "metadata": {},
     "output_type": "display_data"
    }
   ],
   "source": [
    "df['Port'].value_counts().sort_index().plot(kind ='bar', title=\"Attacking ports\", rot=0);"
   ]
  },
  {
   "cell_type": "code",
   "execution_count": 89,
   "id": "02366951",
   "metadata": {},
   "outputs": [
    {
     "data": {
      "text/plain": [
       "503       6\n",
       "8955     42\n",
       "913     520\n",
       "Name: Port, dtype: int64"
      ]
     },
     "execution_count": 89,
     "metadata": {},
     "output_type": "execute_result"
    }
   ],
   "source": [
    "df['Port'].value_counts().sort_index()"
   ]
  },
  {
   "cell_type": "markdown",
   "id": "5084cf4b",
   "metadata": {},
   "source": [
    "* the attacking port [913] contacted the server 520 times changing ip adresses\n",
    "* the attacking port [8955] contacted the server 42 times changing ip adresses\n",
    "* the attacking port [503] contacted the server 6 times changing ip adresses"
   ]
  },
  {
   "cell_type": "markdown",
   "id": "73b4253d",
   "metadata": {},
   "source": [
    "## Insight\n",
    "\n",
    "### Timing\n",
    "* The attack began at 13:03:01\n",
    "* it Ended at 13:03:13\n",
    "\n",
    "### Means\n",
    "*The attacker used the [503,8955,913] port/request changing the ip adress contacting the server up to 6, 42, 520 times within that timeframe respectively.\n"
   ]
  },
  {
   "cell_type": "code",
   "execution_count": null,
   "id": "1044d42d",
   "metadata": {},
   "outputs": [],
   "source": []
  }
 ],
 "metadata": {
  "kernelspec": {
   "display_name": "Python 3 (ipykernel)",
   "language": "python",
   "name": "python3"
  },
  "language_info": {
   "codemirror_mode": {
    "name": "ipython",
    "version": 3
   },
   "file_extension": ".py",
   "mimetype": "text/x-python",
   "name": "python",
   "nbconvert_exporter": "python",
   "pygments_lexer": "ipython3",
   "version": "3.9.13"
  }
 },
 "nbformat": 4,
 "nbformat_minor": 5
}
